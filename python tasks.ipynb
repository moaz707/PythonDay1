{
 "cells": [
  {
   "cell_type": "code",
   "execution_count": null,
   "metadata": {},
   "outputs": [],
   "source": [
    "task 1\n",
    "4+6"
   ]
  },
  {
   "cell_type": "code",
   "execution_count": null,
   "metadata": {},
   "outputs": [],
   "source": [
    "task 2\n",
    "mynum = 8\n",
    "guess = int(input(\"enter a between 0 and 10:\"))\n",
    "counter =1\n",
    "while guess != mynum and counter <3:\n",
    "    if guess < mynum:\n",
    "        print(\"too low\")\n",
    "    else:\n",
    "        print(\"too high\")\n",
    "    guess = int(input(\"try again, enter a between 0 and 10:\"))\n",
    "    counter = counter + 1\n",
    "    \n",
    "if guess == mynum:\n",
    "    print(\"great you got the correct number\")\n",
    "else:\n",
    "    print(\"game over\")\n",
    "print(\"your remaining trials =\" , 3 - counter)"
   ]
  },
  {
   "cell_type": "code",
   "execution_count": null,
   "metadata": {},
   "outputs": [],
   "source": [
    "task 3\n",
    "counter =0\n",
    "while counter <=100:\n",
    "    print(\"python\")\n",
    "    counter = counter +1"
   ]
  },
  {
   "cell_type": "code",
   "execution_count": null,
   "metadata": {},
   "outputs": [],
   "source": [
    "task 4\n",
    "import turtle\n",
    "turtle.shape('turtle')\n",
    "x=0\n",
    "for x in range (60):\n",
    "     for i in range(4):\n",
    "          turtle.forward(100)\n",
    "          turtle.right(90)\n",
    "     turtle.right(5)\n",
    "    \n",
    "import turtle\n",
    "turtle.shape(\"turtle\")\n",
    "turtle.speed(100)\n",
    "scale = 0\n",
    "for i in range(60):\n",
    "    scale += 5\n",
    "    for x in range(4):\n",
    "        turtle.forward(25+scale)\n",
    "        turtle.right(90)\n",
    "    turtle.right(5)"
   ]
  }
 ],
 "metadata": {
  "kernelspec": {
   "display_name": "Python 3",
   "language": "python",
   "name": "python3"
  },
  "language_info": {
   "codemirror_mode": {
    "name": "ipython",
    "version": 3
   },
   "file_extension": ".py",
   "mimetype": "text/x-python",
   "name": "python",
   "nbconvert_exporter": "python",
   "pygments_lexer": "ipython3",
   "version": "3.8.5"
  }
 },
 "nbformat": 4,
 "nbformat_minor": 4
}
